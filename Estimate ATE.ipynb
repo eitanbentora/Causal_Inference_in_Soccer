{
 "cells": [
  {
   "cell_type": "code",
   "execution_count": 1,
   "id": "020d43bd",
   "metadata": {},
   "outputs": [],
   "source": [
    "%load_ext autoreload\n",
    "%autoreload 2"
   ]
  },
  {
   "cell_type": "code",
   "execution_count": 2,
   "id": "cfee4883-e47e-4503-906c-b35266e7c5a3",
   "metadata": {},
   "outputs": [],
   "source": [
    "from methods import CATEGORICAL_COLS, propensity, plot_propensity_hist, ipw, s_learner, t_learner, matching_1NN, \\\n",
    "        matching_general\n",
    "import pandas as pd\n",
    "import pickle\n",
    "from tqdm import tqdm\n",
    "import numpy as np"
   ]
  },
  {
   "cell_type": "markdown",
   "id": "07fb2e32-91dc-4d0d-a61b-244508898c75",
   "metadata": {},
   "source": [
    "Read data"
   ]
  },
  {
   "cell_type": "code",
   "execution_count": 3,
   "id": "e620d603-4a34-4deb-8429-38076c106793",
   "metadata": {},
   "outputs": [],
   "source": [
    "with open('data/consecutive_games_df.pkl', 'rb') as handle:\n",
    "    full_df = pickle.load(handle)"
   ]
  },
  {
   "cell_type": "code",
   "execution_count": 4,
   "id": "865454ac",
   "metadata": {},
   "outputs": [],
   "source": [
    "full_df = full_df[(full_df['prev_goal_diff'] == 1) | (full_df['prev_goal_diff'] == -1)]"
   ]
  },
  {
   "cell_type": "code",
   "execution_count": 5,
   "id": "eb1558d2-a727-435e-8133-3e8f03820ffd",
   "metadata": {},
   "outputs": [],
   "source": [
    "full_df['time_between_games'] = (full_df['next_date'] - full_df['prev_date']).apply(lambda x: x.days)"
   ]
  },
  {
   "cell_type": "code",
   "execution_count": 6,
   "id": "532293e1-46f6-4f82-a977-34223e015762",
   "metadata": {},
   "outputs": [],
   "source": [
    "full_df['lost_prev_game'] = full_df['prev_goal_diff'] < 0"
   ]
  },
  {
   "cell_type": "code",
   "execution_count": 7,
   "id": "36684b17",
   "metadata": {},
   "outputs": [],
   "source": [
    "def bootstrap(df, method, N, **args):\n",
    "    np.random.seed(42)\n",
    "    values = []\n",
    "    for _ in tqdm(range(N)):\n",
    "        sample_df = df.sample(len(df), replace=True)\n",
    "        values.append(method(sample_df, **args))\n",
    "    return values"
   ]
  },
  {
   "cell_type": "code",
   "execution_count": 8,
   "id": "fcece083",
   "metadata": {},
   "outputs": [],
   "source": [
    "def create_estimation_series_from_bootstrap(bootstrap_vec, name):\n",
    "    index = ['ATE Estimation', 'ATE Condifence_Interval']\n",
    "    estimation = round(np.mean(bootstrap_vec), 3)\n",
    "    confidence_interval = (round(np.quantile(bootstrap_vec, 0.025), 3), round(np.quantile(bootstrap_vec, 0.975), 3))\n",
    "    return pd.Series([estimation, confidence_interval], index=index, name=name)"
   ]
  },
  {
   "cell_type": "markdown",
   "id": "9631ed2a",
   "metadata": {},
   "source": [
    "# Question 1\n",
    "<b>How does the outcome of a match affect the team’s outcome in their following match?"
   ]
  },
  {
   "cell_type": "code",
   "execution_count": 9,
   "id": "639ebb83-546a-47fd-b558-1898324aeddf",
   "metadata": {},
   "outputs": [],
   "source": [
    "drop_cols = ['row_team', 'league_id', 'prev_match_api_id', 'prev_date', 'prev_rival_team_api_id', 'next_match_api_id', \n",
    "             'next_date', 'next_rival_team_api_id', 'next_rival_team_goal', 'prev_goal_diff',\n",
    "             'next_row_team_goal', 'prev_row_team_goal', 'prev_rival_team_goal']\n",
    "\n",
    "bet_cols = [col for col in full_df.columns if '_bet_' in col]\n",
    "T = 'lost_prev_game'\n",
    "Y = 'next_goal_diff'\n",
    "X_COLS = [col for col in full_df.columns if col not in drop_cols + bet_cols + [Y, T] + CATEGORICAL_COLS]"
   ]
  },
  {
   "cell_type": "code",
   "execution_count": 10,
   "id": "a2adc35a-6573-4059-8ddc-10f1404b56ae",
   "metadata": {},
   "outputs": [],
   "source": [
    "df = full_df.drop(columns=drop_cols)"
   ]
  },
  {
   "cell_type": "markdown",
   "id": "89ac30ea-00cb-410f-b0fd-bb4e3cdbb590",
   "metadata": {},
   "source": [
    "# Propensity and IPW\n",
    "We'll use Logistic Regression"
   ]
  },
  {
   "cell_type": "markdown",
   "id": "8384797c-b253-4fb4-a830-e2601be67b15",
   "metadata": {},
   "source": [
    "### Propensity"
   ]
  },
  {
   "cell_type": "code",
   "execution_count": 11,
   "id": "a386f143-cbac-4071-a3a8-f7ffbfb68378",
   "metadata": {},
   "outputs": [
    {
     "name": "stdout",
     "output_type": "stream",
     "text": [
      "Data Propensity: \n",
      "[0.60970903 0.39783524 0.76448259 ... 0.71669506 0.28736252 0.74828526]\n"
     ]
    }
   ],
   "source": [
    "prop = propensity(df, X_COLS, T)\n",
    "print(f'Data Propensity: \\n{prop}')"
   ]
  },
  {
   "cell_type": "code",
   "execution_count": 12,
   "id": "556aecb3",
   "metadata": {},
   "outputs": [
    {
     "data": {
      "image/png": "[encoded data removed]",
      "text/plain": [
       "<Figure size 432x288 with 1 Axes>"
      ]
     },
     "metadata": {
      "needs_background": "light"
     },
     "output_type": "display_data"
    }
   ],
   "source": [
    "t = df[T].to_numpy()\n",
    "plot_propensity_hist(t, prop)\n"
   ]
  },
  {
   "cell_type": "code",
   "execution_count": 13,
   "id": "a5ac7d8d",
   "metadata": {},
   "outputs": [
    {
     "data": {
      "image/png": "[encoded data removed]",
      "text/plain": [
       "<Figure size 432x288 with 1 Axes>"
      ]
     },
     "metadata": {
      "needs_background": "light"
     },
     "output_type": "display_data"
    }
   ],
   "source": [
    "df['prop'] = prop\n",
    "df = df[(df['prop'] > 0.25) & (df['prop'] < 0.75)]\n",
    "t = df[T].to_numpy()\n",
    "prop = df['prop'].to_numpy()\n",
    "plot_propensity_hist(t, prop)"
   ]
  },
  {
   "cell_type": "markdown",
   "id": "766a5053-5785-4a62-96d6-380f31282837",
   "metadata": {},
   "source": [
    "### IPW"
   ]
  },
  {
   "cell_type": "code",
   "execution_count": 25,
   "id": "1f1ef009",
   "metadata": {},
   "outputs": [
    {
     "name": "stderr",
     "output_type": "stream",
     "text": [
      " 38%|██████████████████████████████▎                                                | 384/1000 [00:31<00:41, 14.68it/s]C:\\Users\\EB\\anaconda3\\lib\\site-packages\\sklearn\\linear_model\\_logistic.py:814: ConvergenceWarning: lbfgs failed to converge (status=1):\n",
      "STOP: TOTAL NO. of ITERATIONS REACHED LIMIT.\n",
      "\n",
      "Increase the number of iterations (max_iter) or scale the data as shown in:\n",
      "    https://scikit-learn.org/stable/modules/preprocessing.html\n",
      "Please also refer to the documentation for alternative solver options:\n",
      "    https://scikit-learn.org/stable/modules/linear_model.html#logistic-regression\n",
      "  n_iter_i = _check_optimize_result(\n",
      " 40%|███████████████████████████████▍                                               | 398/1000 [00:32<00:39, 15.33it/s]C:\\Users\\EB\\anaconda3\\lib\\site-packages\\sklearn\\linear_model\\_logistic.py:814: ConvergenceWarning: lbfgs failed to converge (status=1):\n",
      "STOP: TOTAL NO. of ITERATIONS REACHED LIMIT.\n",
      "\n",
      "Increase the number of iterations (max_iter) or scale the data as shown in:\n",
      "    https://scikit-learn.org/stable/modules/preprocessing.html\n",
      "Please also refer to the documentation for alternative solver options:\n",
      "    https://scikit-learn.org/stable/modules/linear_model.html#logistic-regression\n",
      "  n_iter_i = _check_optimize_result(\n",
      "100%|██████████████████████████████████████████████████████████████████████████████| 1000/1000 [01:12<00:00, 13.87it/s]\n"
     ]
    }
   ],
   "source": [
    "ipw_bootstrap = bootstrap(df, ipw, N=1000, x_cols=X_COLS, T=T, Y=Y)"
   ]
  },
  {
   "cell_type": "code",
   "execution_count": 26,
   "id": "2396573a-3abc-401c-8429-fc8f869561f2",
   "metadata": {},
   "outputs": [
    {
     "data": {
      "text/plain": [
       "ATE Estimation                       0.134\n",
       "ATE Condifence_Interval    (-0.011, 0.279)\n",
       "Name: IPW, dtype: object"
      ]
     },
     "execution_count": 26,
     "metadata": {},
     "output_type": "execute_result"
    }
   ],
   "source": [
    "ipw_series = create_estimation_series_from_bootstrap(ipw_bootstrap, 'IPW')\n",
    "ipw_series"
   ]
  },
  {
   "cell_type": "markdown",
   "id": "46e3b7c6-68c9-4ed6-9c75-c8d21f69e23d",
   "metadata": {},
   "source": [
    "# S-Learner"
   ]
  },
  {
   "cell_type": "markdown",
   "id": "16c38fc8-c3ec-47cf-bcc9-82ca3f2de86e",
   "metadata": {},
   "source": [
    "### No interactions:"
   ]
  },
  {
   "cell_type": "code",
   "execution_count": 16,
   "id": "055bcd12",
   "metadata": {},
   "outputs": [
    {
     "name": "stderr",
     "output_type": "stream",
     "text": [
      "100%|██████████████████████████████████████████████████████████████████████████████| 1000/1000 [01:06<00:00, 15.08it/s]\n"
     ]
    }
   ],
   "source": [
    "s_bootstrap = bootstrap(df, s_learner, N=1000, T=T, Y=Y)"
   ]
  },
  {
   "cell_type": "code",
   "execution_count": 17,
   "id": "5c3219dc-2fea-4211-b0e4-60b7117be252",
   "metadata": {},
   "outputs": [
    {
     "data": {
      "text/plain": [
       "ATE Estimation                      0.083\n",
       "ATE Condifence_Interval    (0.011, 0.155)\n",
       "Name: S-Learner, dtype: object"
      ]
     },
     "execution_count": 17,
     "metadata": {},
     "output_type": "execute_result"
    }
   ],
   "source": [
    "s_learner_series = create_estimation_series_from_bootstrap(s_bootstrap, 'S-Learner')\n",
    "s_learner_series"
   ]
  },
  {
   "cell_type": "markdown",
   "id": "b900cdfa-6b92-4c06-ac78-ddd362f116b2",
   "metadata": {},
   "source": [
    "### With interactions:"
   ]
  },
  {
   "cell_type": "code",
   "execution_count": 18,
   "id": "3e1e6e1e",
   "metadata": {},
   "outputs": [
    {
     "name": "stderr",
     "output_type": "stream",
     "text": [
      "100%|██████████████████████████████████████████████████████████████████████████████| 1000/1000 [05:34<00:00,  2.99it/s]\n"
     ]
    }
   ],
   "source": [
    "s_bootstrap_interactions = bootstrap(df, s_learner, N=1000, T=T, Y=Y, use_interactions=True)"
   ]
  },
  {
   "cell_type": "code",
   "execution_count": 19,
   "id": "1ebeb51c-460a-4342-929b-edf0ac2758da",
   "metadata": {
    "jupyter": {
     "outputs_hidden": true
    },
    "tags": []
   },
   "outputs": [
    {
     "data": {
      "text/plain": [
       "ATE Estimation                      0.115\n",
       "ATE Condifence_Interval    (0.017, 0.219)\n",
       "Name: S-Learner Interactions, dtype: object"
      ]
     },
     "execution_count": 19,
     "metadata": {},
     "output_type": "execute_result"
    }
   ],
   "source": [
    "s_learner_interactions_series = create_estimation_series_from_bootstrap(s_bootstrap_interactions, 'S-Learner Interactions')\n",
    "s_learner_interactions_series"
   ]
  },
  {
   "cell_type": "markdown",
   "id": "57407033-401d-4362-9b50-a0cef8a4446f",
   "metadata": {},
   "source": [
    "# T-Learner"
   ]
  },
  {
   "cell_type": "code",
   "execution_count": 20,
   "id": "75cbc727",
   "metadata": {},
   "outputs": [
    {
     "name": "stderr",
     "output_type": "stream",
     "text": [
      "100%|██████████████████████████████████████████████████████████████████████████████| 1000/1000 [01:41<00:00,  9.82it/s]\n"
     ]
    }
   ],
   "source": [
    "t_bootstrap = bootstrap(df, t_learner, N=1000, T=T, Y=Y)"
   ]
  },
  {
   "cell_type": "code",
   "execution_count": 21,
   "id": "3686736a",
   "metadata": {},
   "outputs": [
    {
     "data": {
      "text/plain": [
       "ATE Estimation                      0.167\n",
       "ATE Condifence_Interval    (0.025, 0.308)\n",
       "Name: T-Learner, dtype: object"
      ]
     },
     "execution_count": 21,
     "metadata": {},
     "output_type": "execute_result"
    }
   ],
   "source": [
    "t_learner_series = create_estimation_series_from_bootstrap(t_bootstrap, 'T-Learner')\n",
    "t_learner_series"
   ]
  },
  {
   "cell_type": "markdown",
   "id": "9c045cb3-974f-42db-85fa-af9dbc54ba2a",
   "metadata": {},
   "source": [
    "# Matching"
   ]
  },
  {
   "cell_type": "markdown",
   "id": "315049f4",
   "metadata": {},
   "source": [
    "### 1NN"
   ]
  },
  {
   "cell_type": "code",
   "execution_count": 22,
   "id": "dda2b114",
   "metadata": {},
   "outputs": [
    {
     "name": "stderr",
     "output_type": "stream",
     "text": [
      "100%|██████████████████████████████████████████████████████████████████████████████| 1000/1000 [01:26<00:00, 11.54it/s]\n"
     ]
    }
   ],
   "source": [
    "matching_1nn_bootstrap = bootstrap(df, matching_1NN, N=1000, T=T, Y=Y)"
   ]
  },
  {
   "cell_type": "code",
   "execution_count": 23,
   "id": "45aa7af8",
   "metadata": {},
   "outputs": [
    {
     "data": {
      "text/plain": [
       "ATE Estimation                      0.243\n",
       "ATE Condifence_Interval    (0.048, 0.429)\n",
       "Name: 1NN Matching, dtype: object"
      ]
     },
     "execution_count": 23,
     "metadata": {},
     "output_type": "execute_result"
    }
   ],
   "source": [
    "matching_1nn_series = create_estimation_series_from_bootstrap(matching_1nn_bootstrap, '1NN Matching')\n",
    "matching_1nn_series"
   ]
  },
  {
   "cell_type": "markdown",
   "id": "9dd0beed",
   "metadata": {},
   "source": [
    "### 10NN"
   ]
  },
  {
   "cell_type": "code",
   "execution_count": 27,
   "id": "79a5b73a",
   "metadata": {},
   "outputs": [
    {
     "name": "stderr",
     "output_type": "stream",
     "text": [
      "100%|██████████████████████████████████████████████████████████████████████████████| 1000/1000 [03:47<00:00,  4.39it/s]\n"
     ]
    }
   ],
   "source": [
    "matching_10nn_bootstrap = bootstrap(df, matching_general, N=1000, T=T, Y=Y)"
   ]
  },
  {
   "cell_type": "code",
   "execution_count": 28,
   "id": "2e22c4eb",
   "metadata": {},
   "outputs": [
    {
     "data": {
      "text/plain": [
       "ATE Estimation                      0.226\n",
       "ATE Condifence_Interval    (0.054, 0.402)\n",
       "Name: 10NN Matching, dtype: object"
      ]
     },
     "execution_count": 28,
     "metadata": {},
     "output_type": "execute_result"
    }
   ],
   "source": [
    "matching_10nn_series = create_estimation_series_from_bootstrap(matching_10nn_bootstrap, '10NN Matching')\n",
    "matching_10nn_series"
   ]
  },
  {
   "cell_type": "code",
   "execution_count": 29,
   "id": "a570e206",
   "metadata": {},
   "outputs": [
    {
     "name": "stdout",
     "output_type": "stream",
     "text": [
      "The mean ATE Estimation is:  0.161\n"
     ]
    },
    {
     "data": {
      "text/html": [
       "<div>\n",
       "<style scoped>\n",
       "    .dataframe tbody tr th:only-of-type {\n",
       "        vertical-align: middle;\n",
       "    }\n",
       "\n",
       "    .dataframe tbody tr th {\n",
       "        vertical-align: top;\n",
       "    }\n",
       "\n",
       "    .dataframe thead th {\n",
       "        text-align: right;\n",
       "    }\n",
       "</style>\n",
       "<table border=\"1\" class=\"dataframe\">\n",
       "  <thead>\n",
       "    <tr style=\"text-align: right;\">\n",
       "      <th></th>\n",
       "      <th>ATE Estimation</th>\n",
       "      <th>ATE Condifence_Interval</th>\n",
       "    </tr>\n",
       "  </thead>\n",
       "  <tbody>\n",
       "    <tr>\n",
       "      <th>IPW</th>\n",
       "      <td>0.134</td>\n",
       "      <td>(-0.011, 0.279)</td>\n",
       "    </tr>\n",
       "    <tr>\n",
       "      <th>S-Learner</th>\n",
       "      <td>0.083</td>\n",
       "      <td>(0.011, 0.155)</td>\n",
       "    </tr>\n",
       "    <tr>\n",
       "      <th>S-Learner Interactions</th>\n",
       "      <td>0.115</td>\n",
       "      <td>(0.017, 0.219)</td>\n",
       "    </tr>\n",
       "    <tr>\n",
       "      <th>T-Learner</th>\n",
       "      <td>0.167</td>\n",
       "      <td>(0.025, 0.308)</td>\n",
       "    </tr>\n",
       "    <tr>\n",
       "      <th>1NN Matching</th>\n",
       "      <td>0.243</td>\n",
       "      <td>(0.048, 0.429)</td>\n",
       "    </tr>\n",
       "    <tr>\n",
       "      <th>10NN Matching</th>\n",
       "      <td>0.226</td>\n",
       "      <td>(0.054, 0.402)</td>\n",
       "    </tr>\n",
       "  </tbody>\n",
       "</table>\n",
       "</div>"
      ],
      "text/plain": [
       "                       ATE Estimation ATE Condifence_Interval\n",
       "IPW                             0.134         (-0.011, 0.279)\n",
       "S-Learner                       0.083          (0.011, 0.155)\n",
       "S-Learner Interactions          0.115          (0.017, 0.219)\n",
       "T-Learner                       0.167          (0.025, 0.308)\n",
       "1NN Matching                    0.243          (0.048, 0.429)\n",
       "10NN Matching                   0.226          (0.054, 0.402)"
      ]
     },
     "execution_count": 29,
     "metadata": {},
     "output_type": "execute_result"
    }
   ],
   "source": [
    "results_df = pd.concat([ipw_series, s_learner_series, s_learner_interactions_series, t_learner_series, matching_1nn_series, \n",
    "           matching_10nn_series], axis=1).T\n",
    "print(\"The mean ATE Estimation is: \", round(results_df['ATE Estimation'].mean(), 3))\n",
    "results_df"
   ]
  },
  {
   "cell_type": "markdown",
   "id": "aeca26d3",
   "metadata": {},
   "source": [
    "# Question 2\n",
    "<b>How does the outcome of a match affect the betting odds in the team’s following match?"
   ]
  },
  {
   "cell_type": "code",
   "execution_count": 30,
   "id": "78910e1b",
   "metadata": {},
   "outputs": [],
   "source": [
    "drop_cols = ['row_team', 'league_id', 'prev_match_api_id', 'prev_date', 'prev_rival_team_api_id', 'next_match_api_id', \n",
    "             'next_date', 'next_rival_team_api_id', 'next_rival_team_goal', 'prev_goal_diff',\n",
    "             'next_row_team_goal', 'prev_row_team_goal', 'prev_rival_team_goal']\n",
    "bet_cols = [col for col in full_df.columns if '_bet_' in col]\n",
    "T = 'lost_prev_game'\n",
    "Y = 'next_mean_bet_row_team'\n",
    "X_COLS = [col for col in full_df.columns if col not in drop_cols + bet_cols + [Y, T] + CATEGORICAL_COLS]"
   ]
  },
  {
   "cell_type": "code",
   "execution_count": 31,
   "id": "7f395b8b",
   "metadata": {},
   "outputs": [],
   "source": [
    "df = full_df.drop(columns=drop_cols)"
   ]
  },
  {
   "cell_type": "markdown",
   "id": "b618749d",
   "metadata": {},
   "source": [
    "# Propensity and IPW\n",
    "We'll use Logistic Regression"
   ]
  },
  {
   "cell_type": "markdown",
   "id": "704c2363",
   "metadata": {},
   "source": [
    "### Propensity"
   ]
  },
  {
   "cell_type": "code",
   "execution_count": 32,
   "id": "97609b40",
   "metadata": {},
   "outputs": [
    {
     "name": "stdout",
     "output_type": "stream",
     "text": [
      "Data Propensity: \n",
      "[0.61249837 0.36399415 0.75605802 ... 0.74039119 0.26900683 0.76287767]\n"
     ]
    }
   ],
   "source": [
    "prop = propensity(df, X_COLS, T)\n",
    "print(f'Data Propensity: \\n{prop}')"
   ]
  },
  {
   "cell_type": "code",
   "execution_count": 33,
   "id": "61a5953c",
   "metadata": {},
   "outputs": [
    {
     "data": {
      "image/png": "[encoded data removed]",
      "text/plain": [
       "<Figure size 432x288 with 1 Axes>"
      ]
     },
     "metadata": {
      "needs_background": "light"
     },
     "output_type": "display_data"
    }
   ],
   "source": [
    "t = df[T].to_numpy()\n",
    "plot_propensity_hist(t, prop)\n"
   ]
  },
  {
   "cell_type": "code",
   "execution_count": 34,
   "id": "6b0a6d89",
   "metadata": {},
   "outputs": [
    {
     "data": {
      "image/png": "[encoded data removed]",
      "text/plain": [
       "<Figure size 432x288 with 1 Axes>"
      ]
     },
     "metadata": {
      "needs_background": "light"
     },
     "output_type": "display_data"
    }
   ],
   "source": [
    "df['prop'] = prop\n",
    "df = df[(df['prop'] > 0.25) & (df['prop'] < 0.75)]\n",
    "t = df[T].to_numpy()\n",
    "prop = df['prop'].to_numpy()\n",
    "plot_propensity_hist(t, prop)"
   ]
  },
  {
   "cell_type": "markdown",
   "id": "766a5053-5785-4a62-96d6-380f31282837",
   "metadata": {},
   "source": [
    "### IPW"
   ]
  },
  {
   "cell_type": "code",
   "execution_count": 35,
   "id": "dc1dd8fc",
   "metadata": {},
   "outputs": [
    {
     "name": "stderr",
     "output_type": "stream",
     "text": [
      " 50%|███████████████████████████████████████▊                                       | 504/1000 [00:32<00:31, 15.54it/s]C:\\Users\\EB\\anaconda3\\lib\\site-packages\\sklearn\\linear_model\\_logistic.py:814: ConvergenceWarning: lbfgs failed to converge (status=1):\n",
      "STOP: TOTAL NO. of ITERATIONS REACHED LIMIT.\n",
      "\n",
      "Increase the number of iterations (max_iter) or scale the data as shown in:\n",
      "    https://scikit-learn.org/stable/modules/preprocessing.html\n",
      "Please also refer to the documentation for alternative solver options:\n",
      "    https://scikit-learn.org/stable/modules/linear_model.html#logistic-regression\n",
      "  n_iter_i = _check_optimize_result(\n",
      " 63%|█████████████████████████████████████████████████▌                             | 628/1000 [00:40<00:23, 15.64it/s]C:\\Users\\EB\\anaconda3\\lib\\site-packages\\sklearn\\linear_model\\_logistic.py:814: ConvergenceWarning: lbfgs failed to converge (status=1):\n",
      "STOP: TOTAL NO. of ITERATIONS REACHED LIMIT.\n",
      "\n",
      "Increase the number of iterations (max_iter) or scale the data as shown in:\n",
      "    https://scikit-learn.org/stable/modules/preprocessing.html\n",
      "Please also refer to the documentation for alternative solver options:\n",
      "    https://scikit-learn.org/stable/modules/linear_model.html#logistic-regression\n",
      "  n_iter_i = _check_optimize_result(\n",
      "100%|██████████████████████████████████████████████████████████████████████████████| 1000/1000 [01:03<00:00, 15.72it/s]\n"
     ]
    }
   ],
   "source": [
    "ipw_bootstrap2 = bootstrap(df, ipw, N=1000, x_cols=X_COLS, T=T, Y=Y)"
   ]
  },
  {
   "cell_type": "code",
   "execution_count": 36,
   "id": "2396573a-3abc-401c-8429-fc8f869561f2",
   "metadata": {},
   "outputs": [
    {
     "data": {
      "text/plain": [
       "ATE Estimation                      0.171\n",
       "ATE Condifence_Interval    (0.017, 0.328)\n",
       "Name: IPW, dtype: object"
      ]
     },
     "execution_count": 36,
     "metadata": {},
     "output_type": "execute_result"
    }
   ],
   "source": [
    "ipw_series2 = create_estimation_series_from_bootstrap(ipw_bootstrap2, 'IPW')\n",
    "ipw_series2"
   ]
  },
  {
   "cell_type": "markdown",
   "id": "46e3b7c6-68c9-4ed6-9c75-c8d21f69e23d",
   "metadata": {},
   "source": [
    "# S-Learner"
   ]
  },
  {
   "cell_type": "markdown",
   "id": "16c38fc8-c3ec-47cf-bcc9-82ca3f2de86e",
   "metadata": {},
   "source": [
    "### No interactions:"
   ]
  },
  {
   "cell_type": "code",
   "execution_count": 37,
   "id": "9f953381",
   "metadata": {},
   "outputs": [
    {
     "name": "stderr",
     "output_type": "stream",
     "text": [
      "100%|██████████████████████████████████████████████████████████████████████████████| 1000/1000 [01:02<00:00, 15.92it/s]\n"
     ]
    }
   ],
   "source": [
    "s_bootstrap2 = bootstrap(df, s_learner, N=1000, T=T, Y=Y)"
   ]
  },
  {
   "cell_type": "code",
   "execution_count": 38,
   "id": "5c3219dc-2fea-4211-b0e4-60b7117be252",
   "metadata": {},
   "outputs": [
    {
     "data": {
      "text/plain": [
       "ATE Estimation                       0.004\n",
       "ATE Condifence_Interval    (-0.019, 0.027)\n",
       "Name: S-Learner, dtype: object"
      ]
     },
     "execution_count": 38,
     "metadata": {},
     "output_type": "execute_result"
    }
   ],
   "source": [
    "s_learner_series2 = create_estimation_series_from_bootstrap(s_bootstrap2, 'S-Learner')\n",
    "s_learner_series2"
   ]
  },
  {
   "cell_type": "markdown",
   "id": "b900cdfa-6b92-4c06-ac78-ddd362f116b2",
   "metadata": {},
   "source": [
    "### With interactions:"
   ]
  },
  {
   "cell_type": "code",
   "execution_count": 39,
   "id": "9645af89",
   "metadata": {},
   "outputs": [
    {
     "name": "stderr",
     "output_type": "stream",
     "text": [
      "100%|██████████████████████████████████████████████████████████████████████████████| 1000/1000 [05:09<00:00,  3.23it/s]\n"
     ]
    }
   ],
   "source": [
    "s_bootstrap_interactions2 = bootstrap(df, s_learner, N=1000, T=T, Y=Y, use_interactions=True)"
   ]
  },
  {
   "cell_type": "code",
   "execution_count": 40,
   "id": "1ebeb51c-460a-4342-929b-edf0ac2758da",
   "metadata": {
    "jupyter": {
     "outputs_hidden": true
    },
    "tags": []
   },
   "outputs": [
    {
     "data": {
      "text/plain": [
       "ATE Estimation                      -0.001\n",
       "ATE Condifence_Interval    (-0.023, 0.022)\n",
       "Name: S-Learner Interactions, dtype: object"
      ]
     },
     "execution_count": 40,
     "metadata": {},
     "output_type": "execute_result"
    }
   ],
   "source": [
    "s_learner_interactions_series2 = create_estimation_series_from_bootstrap(s_bootstrap_interactions2, 'S-Learner Interactions')\n",
    "s_learner_interactions_series2"
   ]
  },
  {
   "cell_type": "markdown",
   "id": "57407033-401d-4362-9b50-a0cef8a4446f",
   "metadata": {},
   "source": [
    "# T-Learner"
   ]
  },
  {
   "cell_type": "code",
   "execution_count": 41,
   "id": "587395ae",
   "metadata": {},
   "outputs": [
    {
     "name": "stderr",
     "output_type": "stream",
     "text": [
      "100%|██████████████████████████████████████████████████████████████████████████████| 1000/1000 [01:19<00:00, 12.54it/s]\n"
     ]
    }
   ],
   "source": [
    "t_bootstrap2 = bootstrap(df, t_learner, N=1000, T=T, Y=Y)"
   ]
  },
  {
   "cell_type": "code",
   "execution_count": 42,
   "id": "d7d4f0cf",
   "metadata": {},
   "outputs": [
    {
     "data": {
      "text/plain": [
       "ATE Estimation                      0.005\n",
       "ATE Condifence_Interval    (-0.04, 0.051)\n",
       "Name: T-Learner, dtype: object"
      ]
     },
     "execution_count": 42,
     "metadata": {},
     "output_type": "execute_result"
    }
   ],
   "source": [
    "t_learner_series2 = create_estimation_series_from_bootstrap(t_bootstrap2, 'T-Learner')\n",
    "t_learner_series2"
   ]
  },
  {
   "cell_type": "markdown",
   "id": "9c045cb3-974f-42db-85fa-af9dbc54ba2a",
   "metadata": {},
   "source": [
    "# Matching"
   ]
  },
  {
   "cell_type": "markdown",
   "id": "e8e0478f",
   "metadata": {},
   "source": [
    "### 1NN"
   ]
  },
  {
   "cell_type": "code",
   "execution_count": 43,
   "id": "8f8fceec",
   "metadata": {},
   "outputs": [
    {
     "name": "stderr",
     "output_type": "stream",
     "text": [
      "100%|██████████████████████████████████████████████████████████████████████████████| 1000/1000 [01:24<00:00, 11.81it/s]\n"
     ]
    }
   ],
   "source": [
    "matching_1nn_bootstrap2 = bootstrap(df, matching_1NN, N=1000, T=T, Y=Y)"
   ]
  },
  {
   "cell_type": "code",
   "execution_count": 44,
   "id": "823a2c5c",
   "metadata": {},
   "outputs": [
    {
     "data": {
      "text/plain": [
       "ATE Estimation                       0.034\n",
       "ATE Condifence_Interval    (-0.186, 0.239)\n",
       "Name: 1NN Matching, dtype: object"
      ]
     },
     "execution_count": 44,
     "metadata": {},
     "output_type": "execute_result"
    }
   ],
   "source": [
    "matching_1nn_series2 = create_estimation_series_from_bootstrap(matching_1nn_bootstrap2, '1NN Matching')\n",
    "matching_1nn_series2"
   ]
  },
  {
   "cell_type": "markdown",
   "id": "933c6325",
   "metadata": {},
   "source": [
    "### 10NN"
   ]
  },
  {
   "cell_type": "code",
   "execution_count": 45,
   "id": "bb1055f9",
   "metadata": {},
   "outputs": [
    {
     "name": "stderr",
     "output_type": "stream",
     "text": [
      "100%|██████████████████████████████████████████████████████████████████████████████| 1000/1000 [03:41<00:00,  4.52it/s]\n"
     ]
    }
   ],
   "source": [
    "matching_10nn_bootstrap2 = bootstrap(df, matching_general, N=1000, T=T, Y=Y)"
   ]
  },
  {
   "cell_type": "code",
   "execution_count": 46,
   "id": "dd21b6c8",
   "metadata": {},
   "outputs": [
    {
     "data": {
      "text/plain": [
       "ATE Estimation                       0.035\n",
       "ATE Condifence_Interval    (-0.162, 0.222)\n",
       "Name: 10NN Matching, dtype: object"
      ]
     },
     "execution_count": 46,
     "metadata": {},
     "output_type": "execute_result"
    }
   ],
   "source": [
    "matching_10nn_series2 = create_estimation_series_from_bootstrap(matching_10nn_bootstrap2, '10NN Matching')\n",
    "matching_10nn_series2"
   ]
  },
  {
   "cell_type": "code",
   "execution_count": 47,
   "id": "7eddb21e",
   "metadata": {},
   "outputs": [
    {
     "name": "stdout",
     "output_type": "stream",
     "text": [
      "The mean ATE Estimation is:  0.041\n"
     ]
    },
    {
     "data": {
      "text/html": [
       "<div>\n",
       "<style scoped>\n",
       "    .dataframe tbody tr th:only-of-type {\n",
       "        vertical-align: middle;\n",
       "    }\n",
       "\n",
       "    .dataframe tbody tr th {\n",
       "        vertical-align: top;\n",
       "    }\n",
       "\n",
       "    .dataframe thead th {\n",
       "        text-align: right;\n",
       "    }\n",
       "</style>\n",
       "<table border=\"1\" class=\"dataframe\">\n",
       "  <thead>\n",
       "    <tr style=\"text-align: right;\">\n",
       "      <th></th>\n",
       "      <th>ATE Estimation</th>\n",
       "      <th>ATE Condifence_Interval</th>\n",
       "    </tr>\n",
       "  </thead>\n",
       "  <tbody>\n",
       "    <tr>\n",
       "      <th>IPW</th>\n",
       "      <td>0.171</td>\n",
       "      <td>(0.017, 0.328)</td>\n",
       "    </tr>\n",
       "    <tr>\n",
       "      <th>S-Learner</th>\n",
       "      <td>0.004</td>\n",
       "      <td>(-0.019, 0.027)</td>\n",
       "    </tr>\n",
       "    <tr>\n",
       "      <th>S-Learner Interactions</th>\n",
       "      <td>-0.001</td>\n",
       "      <td>(-0.023, 0.022)</td>\n",
       "    </tr>\n",
       "    <tr>\n",
       "      <th>T-Learner</th>\n",
       "      <td>0.005</td>\n",
       "      <td>(-0.04, 0.051)</td>\n",
       "    </tr>\n",
       "    <tr>\n",
       "      <th>1NN Matching</th>\n",
       "      <td>0.034</td>\n",
       "      <td>(-0.186, 0.239)</td>\n",
       "    </tr>\n",
       "    <tr>\n",
       "      <th>10NN Matching</th>\n",
       "      <td>0.035</td>\n",
       "      <td>(-0.162, 0.222)</td>\n",
       "    </tr>\n",
       "  </tbody>\n",
       "</table>\n",
       "</div>"
      ],
      "text/plain": [
       "                       ATE Estimation ATE Condifence_Interval\n",
       "IPW                             0.171          (0.017, 0.328)\n",
       "S-Learner                       0.004         (-0.019, 0.027)\n",
       "S-Learner Interactions         -0.001         (-0.023, 0.022)\n",
       "T-Learner                       0.005          (-0.04, 0.051)\n",
       "1NN Matching                    0.034         (-0.186, 0.239)\n",
       "10NN Matching                   0.035         (-0.162, 0.222)"
      ]
     },
     "execution_count": 47,
     "metadata": {},
     "output_type": "execute_result"
    }
   ],
   "source": [
    "results_df2 = pd.concat([ipw_series2, s_learner_series2, s_learner_interactions_series2, t_learner_series2, matching_1nn_series2, \n",
    "           matching_10nn_series2], axis=1).T\n",
    "print(\"The mean ATE Estimation is: \", round(results_df2['ATE Estimation'].mean(), 3))\n",
    "results_df2"
   ]
  },
  {
   "cell_type": "markdown",
   "id": "9631ed2a",
   "metadata": {},
   "source": [
    "# Question 1 - no season info\n",
    "<b>How does the outcome of a match affect the team’s outcome in their following match?"
   ]
  },
  {
   "cell_type": "code",
   "execution_count": 48,
   "id": "639ebb83-546a-47fd-b558-1898324aeddf",
   "metadata": {},
   "outputs": [],
   "source": [
    "drop_cols = ['row_team', 'league_id', 'prev_match_api_id', 'prev_date', 'prev_rival_team_api_id', 'next_match_api_id', \n",
    "             'next_date', 'next_rival_team_api_id', 'next_rival_team_goal', 'prev_goal_diff',\n",
    "             'next_row_team_goal', 'prev_row_team_goal', 'prev_rival_team_goal']\n",
    "\n",
    "bet_cols = [col for col in full_df.columns if '_bet_' in col]\n",
    "T = 'lost_prev_game'\n",
    "Y = 'next_goal_diff'\n",
    "X_COLS = [col for col in full_df.columns if col not in drop_cols + bet_cols + [Y, T] + CATEGORICAL_COLS]"
   ]
  },
  {
   "cell_type": "code",
   "execution_count": 49,
   "id": "fef15ff1",
   "metadata": {},
   "outputs": [],
   "source": [
    "next_season_cols = ['row_team_wins', 'row_team_draws', 'row_team_league_points', 'row_team_season_goals','prev_rival_wins',\n",
    "                     'prev_rival_draws', 'prev_rival_league_points', 'prev_rival_season_goals', 'next_rival_wins', \n",
    "                    'next_rival_draws', 'next_rival_league_points', 'next_rival_season_goals',]\n",
    "X_COLS = [col for col in X_COLS if col not in next_season_cols]"
   ]
  },
  {
   "cell_type": "code",
   "execution_count": 50,
   "id": "a2adc35a-6573-4059-8ddc-10f1404b56ae",
   "metadata": {},
   "outputs": [],
   "source": [
    "df = full_df.drop(columns=drop_cols)"
   ]
  },
  {
   "cell_type": "markdown",
   "id": "89ac30ea-00cb-410f-b0fd-bb4e3cdbb590",
   "metadata": {},
   "source": [
    "# Propensity and IPW\n",
    "We'll use Logistic Regression"
   ]
  },
  {
   "cell_type": "markdown",
   "id": "8384797c-b253-4fb4-a830-e2601be67b15",
   "metadata": {},
   "source": [
    "### Propensity"
   ]
  },
  {
   "cell_type": "code",
   "execution_count": 51,
   "id": "a386f143-cbac-4071-a3a8-f7ffbfb68378",
   "metadata": {},
   "outputs": [
    {
     "name": "stdout",
     "output_type": "stream",
     "text": [
      "Data Propensity: \n",
      "[0.62930478 0.36597891 0.66599518 ... 0.63516577 0.50496879 0.55741501]\n"
     ]
    }
   ],
   "source": [
    "prop = propensity(df, X_COLS, T)\n",
    "print(f'Data Propensity: \\n{prop}')"
   ]
  },
  {
   "cell_type": "code",
   "execution_count": 52,
   "id": "556aecb3",
   "metadata": {},
   "outputs": [
    {
     "data": {
      "image/png": "[encoded data removed]",
      "text/plain": [
       "<Figure size 432x288 with 1 Axes>"
      ]
     },
     "metadata": {
      "needs_background": "light"
     },
     "output_type": "display_data"
    }
   ],
   "source": [
    "t = df[T].to_numpy()\n",
    "plot_propensity_hist(t, prop)\n"
   ]
  },
  {
   "cell_type": "code",
   "execution_count": 53,
   "id": "a5ac7d8d",
   "metadata": {},
   "outputs": [
    {
     "data": {
      "image/png": "[encoded data removed]",
      "text/plain": [
       "<Figure size 432x288 with 1 Axes>"
      ]
     },
     "metadata": {
      "needs_background": "light"
     },
     "output_type": "display_data"
    }
   ],
   "source": [
    "df['prop'] = prop\n",
    "df = df[(df['prop'] > 0.25) & (df['prop'] < 0.75)]\n",
    "t = df[T].to_numpy()\n",
    "prop = df['prop'].to_numpy()\n",
    "plot_propensity_hist(t, prop)"
   ]
  },
  {
   "cell_type": "markdown",
   "id": "766a5053-5785-4a62-96d6-380f31282837",
   "metadata": {},
   "source": [
    "### IPW"
   ]
  },
  {
   "cell_type": "code",
   "execution_count": 54,
   "id": "1f1ef009",
   "metadata": {},
   "outputs": [
    {
     "name": "stderr",
     "output_type": "stream",
     "text": [
      "100%|██████████████████████████████████████████████████████████████████████████████| 1000/1000 [01:05<00:00, 15.23it/s]\n"
     ]
    }
   ],
   "source": [
    "ipw_bootstrap = bootstrap(df, ipw, N=1000, x_cols=X_COLS, T=T, Y=Y)"
   ]
  },
  {
   "cell_type": "code",
   "execution_count": 55,
   "id": "2396573a-3abc-401c-8429-fc8f869561f2",
   "metadata": {},
   "outputs": [
    {
     "data": {
      "text/plain": [
       "ATE Estimation                       0.092\n",
       "ATE Condifence_Interval    (-0.045, 0.234)\n",
       "Name: IPW, dtype: object"
      ]
     },
     "execution_count": 55,
     "metadata": {},
     "output_type": "execute_result"
    }
   ],
   "source": [
    "ipw_series = create_estimation_series_from_bootstrap(ipw_bootstrap, 'IPW')\n",
    "ipw_series"
   ]
  },
  {
   "cell_type": "markdown",
   "id": "46e3b7c6-68c9-4ed6-9c75-c8d21f69e23d",
   "metadata": {},
   "source": [
    "# S-Learner"
   ]
  },
  {
   "cell_type": "markdown",
   "id": "16c38fc8-c3ec-47cf-bcc9-82ca3f2de86e",
   "metadata": {},
   "source": [
    "### No interactions:"
   ]
  },
  {
   "cell_type": "code",
   "execution_count": 56,
   "id": "055bcd12",
   "metadata": {},
   "outputs": [
    {
     "name": "stderr",
     "output_type": "stream",
     "text": [
      "100%|██████████████████████████████████████████████████████████████████████████████| 1000/1000 [01:22<00:00, 12.17it/s]\n"
     ]
    }
   ],
   "source": [
    "s_bootstrap = bootstrap(df, s_learner, N=1000, T=T, Y=Y)"
   ]
  },
  {
   "cell_type": "code",
   "execution_count": 57,
   "id": "5c3219dc-2fea-4211-b0e4-60b7117be252",
   "metadata": {},
   "outputs": [
    {
     "data": {
      "text/plain": [
       "ATE Estimation                     0.096\n",
       "ATE Condifence_Interval    (0.031, 0.16)\n",
       "Name: S-Learner, dtype: object"
      ]
     },
     "execution_count": 57,
     "metadata": {},
     "output_type": "execute_result"
    }
   ],
   "source": [
    "s_learner_series = create_estimation_series_from_bootstrap(s_bootstrap, 'S-Learner')\n",
    "s_learner_series"
   ]
  },
  {
   "cell_type": "markdown",
   "id": "b900cdfa-6b92-4c06-ac78-ddd362f116b2",
   "metadata": {},
   "source": [
    "### With interactions:"
   ]
  },
  {
   "cell_type": "code",
   "execution_count": 58,
   "id": "3e1e6e1e",
   "metadata": {},
   "outputs": [
    {
     "name": "stderr",
     "output_type": "stream",
     "text": [
      "100%|██████████████████████████████████████████████████████████████████████████████| 1000/1000 [05:39<00:00,  2.94it/s]\n"
     ]
    }
   ],
   "source": [
    "s_bootstrap_interactions = bootstrap(df, s_learner, N=1000, T=T, Y=Y, use_interactions=True)"
   ]
  },
  {
   "cell_type": "code",
   "execution_count": 59,
   "id": "1ebeb51c-460a-4342-929b-edf0ac2758da",
   "metadata": {
    "jupyter": {
     "outputs_hidden": true
    },
    "tags": []
   },
   "outputs": [
    {
     "data": {
      "text/plain": [
       "ATE Estimation                     0.114\n",
       "ATE Condifence_Interval    (0.02, 0.212)\n",
       "Name: S-Learner Interactions, dtype: object"
      ]
     },
     "execution_count": 59,
     "metadata": {},
     "output_type": "execute_result"
    }
   ],
   "source": [
    "s_learner_interactions_series = create_estimation_series_from_bootstrap(s_bootstrap_interactions, 'S-Learner Interactions')\n",
    "s_learner_interactions_series"
   ]
  },
  {
   "cell_type": "markdown",
   "id": "57407033-401d-4362-9b50-a0cef8a4446f",
   "metadata": {},
   "source": [
    "# T-Learner"
   ]
  },
  {
   "cell_type": "code",
   "execution_count": 60,
   "id": "75cbc727",
   "metadata": {},
   "outputs": [
    {
     "name": "stderr",
     "output_type": "stream",
     "text": [
      "100%|██████████████████████████████████████████████████████████████████████████████| 1000/1000 [01:22<00:00, 12.05it/s]\n"
     ]
    }
   ],
   "source": [
    "t_bootstrap = bootstrap(df, t_learner, N=1000, T=T, Y=Y)"
   ]
  },
  {
   "cell_type": "code",
   "execution_count": 61,
   "id": "3686736a",
   "metadata": {},
   "outputs": [
    {
     "data": {
      "text/plain": [
       "ATE Estimation                      0.198\n",
       "ATE Condifence_Interval    (0.069, 0.331)\n",
       "Name: T-Learner, dtype: object"
      ]
     },
     "execution_count": 61,
     "metadata": {},
     "output_type": "execute_result"
    }
   ],
   "source": [
    "t_learner_series = create_estimation_series_from_bootstrap(t_bootstrap, 'T-Learner')\n",
    "t_learner_series"
   ]
  },
  {
   "cell_type": "markdown",
   "id": "9c045cb3-974f-42db-85fa-af9dbc54ba2a",
   "metadata": {},
   "source": [
    "# Matching"
   ]
  },
  {
   "cell_type": "markdown",
   "id": "315049f4",
   "metadata": {},
   "source": [
    "### 1NN"
   ]
  },
  {
   "cell_type": "code",
   "execution_count": 62,
   "id": "dda2b114",
   "metadata": {},
   "outputs": [
    {
     "name": "stderr",
     "output_type": "stream",
     "text": [
      "100%|██████████████████████████████████████████████████████████████████████████████| 1000/1000 [01:31<00:00, 10.98it/s]\n"
     ]
    }
   ],
   "source": [
    "matching_1nn_bootstrap = bootstrap(df, matching_1NN, N=1000, T=T, Y=Y)"
   ]
  },
  {
   "cell_type": "code",
   "execution_count": 63,
   "id": "45aa7af8",
   "metadata": {},
   "outputs": [
    {
     "data": {
      "text/plain": [
       "ATE Estimation                      0.235\n",
       "ATE Condifence_Interval    (0.056, 0.417)\n",
       "Name: 1NN Matching, dtype: object"
      ]
     },
     "execution_count": 63,
     "metadata": {},
     "output_type": "execute_result"
    }
   ],
   "source": [
    "matching_1nn_series = create_estimation_series_from_bootstrap(matching_1nn_bootstrap, '1NN Matching')\n",
    "matching_1nn_series"
   ]
  },
  {
   "cell_type": "markdown",
   "id": "9dd0beed",
   "metadata": {},
   "source": [
    "### 10NN"
   ]
  },
  {
   "cell_type": "code",
   "execution_count": 64,
   "id": "79a5b73a",
   "metadata": {},
   "outputs": [
    {
     "name": "stderr",
     "output_type": "stream",
     "text": [
      "100%|██████████████████████████████████████████████████████████████████████████████| 1000/1000 [04:03<00:00,  4.10it/s]\n"
     ]
    }
   ],
   "source": [
    "matching_10nn_bootstrap = bootstrap(df, matching_general, N=1000, T=T, Y=Y)"
   ]
  },
  {
   "cell_type": "code",
   "execution_count": 65,
   "id": "2e22c4eb",
   "metadata": {},
   "outputs": [
    {
     "data": {
      "text/plain": [
       "ATE Estimation                      0.225\n",
       "ATE Condifence_Interval    (0.061, 0.385)\n",
       "Name: 10NN Matching, dtype: object"
      ]
     },
     "execution_count": 65,
     "metadata": {},
     "output_type": "execute_result"
    }
   ],
   "source": [
    "matching_10nn_series = create_estimation_series_from_bootstrap(matching_10nn_bootstrap, '10NN Matching')\n",
    "matching_10nn_series"
   ]
  },
  {
   "cell_type": "code",
   "execution_count": 66,
   "id": "a570e206",
   "metadata": {},
   "outputs": [
    {
     "name": "stdout",
     "output_type": "stream",
     "text": [
      "The mean ATE Estimation is:  0.16\n"
     ]
    },
    {
     "data": {
      "text/html": [
       "<div>\n",
       "<style scoped>\n",
       "    .dataframe tbody tr th:only-of-type {\n",
       "        vertical-align: middle;\n",
       "    }\n",
       "\n",
       "    .dataframe tbody tr th {\n",
       "        vertical-align: top;\n",
       "    }\n",
       "\n",
       "    .dataframe thead th {\n",
       "        text-align: right;\n",
       "    }\n",
       "</style>\n",
       "<table border=\"1\" class=\"dataframe\">\n",
       "  <thead>\n",
       "    <tr style=\"text-align: right;\">\n",
       "      <th></th>\n",
       "      <th>ATE Estimation</th>\n",
       "      <th>ATE Condifence_Interval</th>\n",
       "    </tr>\n",
       "  </thead>\n",
       "  <tbody>\n",
       "    <tr>\n",
       "      <th>IPW</th>\n",
       "      <td>0.092</td>\n",
       "      <td>(-0.045, 0.234)</td>\n",
       "    </tr>\n",
       "    <tr>\n",
       "      <th>S-Learner</th>\n",
       "      <td>0.096</td>\n",
       "      <td>(0.031, 0.16)</td>\n",
       "    </tr>\n",
       "    <tr>\n",
       "      <th>S-Learner Interactions</th>\n",
       "      <td>0.114</td>\n",
       "      <td>(0.02, 0.212)</td>\n",
       "    </tr>\n",
       "    <tr>\n",
       "      <th>T-Learner</th>\n",
       "      <td>0.198</td>\n",
       "      <td>(0.069, 0.331)</td>\n",
       "    </tr>\n",
       "    <tr>\n",
       "      <th>1NN Matching</th>\n",
       "      <td>0.235</td>\n",
       "      <td>(0.056, 0.417)</td>\n",
       "    </tr>\n",
       "    <tr>\n",
       "      <th>10NN Matching</th>\n",
       "      <td>0.225</td>\n",
       "      <td>(0.061, 0.385)</td>\n",
       "    </tr>\n",
       "  </tbody>\n",
       "</table>\n",
       "</div>"
      ],
      "text/plain": [
       "                       ATE Estimation ATE Condifence_Interval\n",
       "IPW                             0.092         (-0.045, 0.234)\n",
       "S-Learner                       0.096           (0.031, 0.16)\n",
       "S-Learner Interactions          0.114           (0.02, 0.212)\n",
       "T-Learner                       0.198          (0.069, 0.331)\n",
       "1NN Matching                    0.235          (0.056, 0.417)\n",
       "10NN Matching                   0.225          (0.061, 0.385)"
      ]
     },
     "execution_count": 66,
     "metadata": {},
     "output_type": "execute_result"
    }
   ],
   "source": [
    "results_df = pd.concat([ipw_series, s_learner_series, s_learner_interactions_series, t_learner_series, matching_1nn_series, \n",
    "           matching_10nn_series], axis=1).T\n",
    "print(\"The mean ATE Estimation is: \", round(results_df['ATE Estimation'].mean(), 3))\n",
    "results_df"
   ]
  },
  {
   "cell_type": "code",
   "execution_count": null,
   "id": "b647d0ac",
   "metadata": {},
   "outputs": [],
   "source": []
  },
  {
   "cell_type": "code",
   "execution_count": null,
   "id": "c8c5e36c",
   "metadata": {},
   "outputs": [],
   "source": []
  },
  {
   "cell_type": "code",
   "execution_count": null,
   "id": "eff0bba5",
   "metadata": {},
   "outputs": [],
   "source": []
  }
 ],
 "metadata": {
  "kernelspec": {
   "display_name": "Python 3 (ipykernel)",
   "language": "python",
   "name": "python3"
  },
  "language_info": {
   "codemirror_mode": {
    "name": "ipython",
    "version": 3
   },
   "file_extension": ".py",
   "mimetype": "text/x-python",
   "name": "python",
   "nbconvert_exporter": "python",
   "pygments_lexer": "ipython3",
   "version": "3.8.11"
  }
 },
 "nbformat": 4,
 "nbformat_minor": 5
}
